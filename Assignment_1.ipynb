{
  "nbformat": 4,
  "nbformat_minor": 0,
  "metadata": {
    "colab": {
      "name": "Assignment 1.ipynb",
      "provenance": [],
      "collapsed_sections": [],
      "authorship_tag": "ABX9TyOhshNwZQHrfFF2OBjizmmI",
      "include_colab_link": true
    },
    "kernelspec": {
      "name": "python3",
      "display_name": "Python 3"
    }
  },
  "cells": [
    {
      "cell_type": "markdown",
      "metadata": {
        "id": "view-in-github",
        "colab_type": "text"
      },
      "source": [
        "<a href=\"https://colab.research.google.com/github/Thriveni1232/Class-Assignment-1---Getting-Started-with-Python-Programming/blob/master/Assignment_1.ipynb\" target=\"_parent\"><img src=\"https://colab.research.google.com/assets/colab-badge.svg\" alt=\"Open In Colab\"/></a>"
      ]
    },
    {
      "cell_type": "code",
      "metadata": {
        "id": "ffaQJ_w_tKuw",
        "colab_type": "code",
        "colab": {}
      },
      "source": [
        "Question 2"
      ],
      "execution_count": null,
      "outputs": []
    },
    {
      "cell_type": "code",
      "metadata": {
        "id": "Ehyd48S4tNH5",
        "colab_type": "code",
        "colab": {
          "base_uri": "https://localhost:8080/",
          "height": 68
        },
        "outputId": "96d17bc1-b645-4441-a322-8eb0d8d787cb"
      },
      "source": [
        "Name =\"E Thriveni\"\n",
        "Address =\"Edneer, Kasaragod\"\n",
        "Telephone_no =\"2165377809\"\n",
        "print(\" Name:\"+Name+\"\\n\",\"Address:\"+Address+\"\\n\",\"Telephone no:\"+Telephone_no)"
      ],
      "execution_count": null,
      "outputs": [
        {
          "output_type": "stream",
          "text": [
            " Name:E Thriveni\n",
            " Address:Edneer, Kasaragod\n",
            " Telephone no:2165377809\n"
          ],
          "name": "stdout"
        }
      ]
    },
    {
      "cell_type": "markdown",
      "metadata": {
        "id": "7vtjfAqmvHWE",
        "colab_type": "text"
      },
      "source": [
        "Question 3"
      ]
    },
    {
      "cell_type": "code",
      "metadata": {
        "id": "BDIJrw5hvMJQ",
        "colab_type": "code",
        "colab": {
          "base_uri": "https://localhost:8080/",
          "height": 34
        },
        "outputId": "983e0f2e-e375-4a6e-b8c5-8a6d4d42536e"
      },
      "source": [
        "print(\"Your name is\",Name)\n",
        "Name=\"EThriveni\""
      ],
      "execution_count": null,
      "outputs": [
        {
          "output_type": "stream",
          "text": [
            "Your name is E Thriveni\n"
          ],
          "name": "stdout"
        }
      ]
    },
    {
      "cell_type": "markdown",
      "metadata": {
        "id": "j2S5DMAvxaXS",
        "colab_type": "text"
      },
      "source": [
        "Question 4"
      ]
    },
    {
      "cell_type": "markdown",
      "metadata": {
        "id": "kkIrSjrNzKi7",
        "colab_type": "text"
      },
      "source": [
        ""
      ]
    },
    {
      "cell_type": "code",
      "metadata": {
        "id": "JUSukr22xcUB",
        "colab_type": "code",
        "colab": {
          "base_uri": "https://localhost:8080/",
          "height": 88
        },
        "outputId": "a929db84-89b0-4129-bfd0-d8020b310042"
      },
      "source": [
        "#area of a rectangle\n",
        "Width = float(input(\"Enter the width: \"))\n",
        "Height = float(input(\"Enter the height: \"))\n",
        "area =Width * Height\n",
        "print(\"The area is\",area, \"Square units\")"
      ],
      "execution_count": null,
      "outputs": [
        {
          "output_type": "stream",
          "text": [
            "Enter the width: 10\n",
            "Enter the height: 3\n",
            "The area is 30.0 Square units\n"
          ],
          "name": "stdout"
        }
      ]
    },
    {
      "cell_type": "markdown",
      "metadata": {
        "id": "PR4q1CbhzNpS",
        "colab_type": "text"
      },
      "source": [
        "Question 5"
      ]
    },
    {
      "cell_type": "code",
      "metadata": {
        "id": "TQcQLcYmzPVg",
        "colab_type": "code",
        "colab": {
          "base_uri": "https://localhost:8080/",
          "height": 88
        },
        "outputId": "6520e36b-8fba-4586-bee1-b9083695cb3f"
      },
      "source": [
        "#area of a triangle\n",
        "Base= float(input(\" Enter the width: \"))\n",
        "Height= float(input(\" Enter the height: \"))\n",
        "area = .5*Base*Height\n",
        "print(\" The area is\",area, \"Square units\")"
      ],
      "execution_count": null,
      "outputs": [
        {
          "output_type": "stream",
          "text": [
            " Enter the width: 9\n",
            " Enter the height: 7\n",
            " The area is 31.5 Square units\n"
          ],
          "name": "stdout"
        }
      ]
    },
    {
      "cell_type": "markdown",
      "metadata": {
        "id": "whqRA1rC29-H",
        "colab_type": "text"
      },
      "source": [
        " Question 6"
      ]
    },
    {
      "cell_type": "code",
      "metadata": {
        "id": "fl2dJYQD3AKR",
        "colab_type": "code",
        "colab": {
          "base_uri": "https://localhost:8080/",
          "height": 71
        },
        "outputId": "250e6700-1c94-413a-9611-fa7283f71b96"
      },
      "source": [
        "#area of a circle\n",
        "radius = float(input(\"Enter the radius: \"))\n",
        "area = 3.14*radius**2\n",
        "print(\"The area is\",area, \"Square units\")"
      ],
      "execution_count": null,
      "outputs": [
        {
          "output_type": "stream",
          "text": [
            "Enter the radius: 43\n",
            "The area is 5805.860000000001 Square units\n"
          ],
          "name": "stdout"
        }
      ]
    },
    {
      "cell_type": "markdown",
      "metadata": {
        "id": "JKCv0ADo4OqU",
        "colab_type": "text"
      },
      "source": [
        "Question 7"
      ]
    },
    {
      "cell_type": "code",
      "metadata": {
        "id": "gW1VhXto4RCS",
        "colab_type": "code",
        "colab": {
          "base_uri": "https://localhost:8080/",
          "height": 88
        },
        "outputId": "bead14fb-c62b-43af-c596-b8228c3f168d"
      },
      "source": [
        "Name = input(\"Enter your name: \")\n",
        "Age =input(\" Enter your age: \")\n",
        "print(\"My name is \"+Name+\" and my age is \" + Age)"
      ],
      "execution_count": null,
      "outputs": [
        {
          "output_type": "stream",
          "text": [
            "Enter your name: E Thriveni\n",
            " Enter your age: 19\n",
            "My name is E Thriveni and my age is 19\n"
          ],
          "name": "stdout"
        }
      ]
    },
    {
      "cell_type": "markdown",
      "metadata": {
        "id": "FE3RcNEW5lrW",
        "colab_type": "text"
      },
      "source": [
        "Question 8"
      ]
    },
    {
      "cell_type": "code",
      "metadata": {
        "id": "G9qmdcM-5ngr",
        "colab_type": "code",
        "colab": {
          "base_uri": "https://localhost:8080/",
          "height": 51
        },
        "outputId": "11d89b29-112b-4be9-fcf9-48f7021f5e18"
      },
      "source": [
        "a=int(input(\" Enter a number: \"))\n",
        "a=a+1\n",
        "print(a)"
      ],
      "execution_count": null,
      "outputs": [
        {
          "output_type": "stream",
          "text": [
            " Enter a number: 6\n",
            "7\n"
          ],
          "name": "stdout"
        }
      ]
    },
    {
      "cell_type": "markdown",
      "metadata": {
        "id": "R77hJhmJ6O7c",
        "colab_type": "text"
      },
      "source": [
        "Question 9"
      ]
    },
    {
      "cell_type": "code",
      "metadata": {
        "id": "f1dvJs2_6Qu9",
        "colab_type": "code",
        "colab": {
          "base_uri": "https://localhost:8080/",
          "height": 53
        },
        "outputId": "5a3e02d5-9d7f-438d-ca39-8a557a09d113"
      },
      "source": [
        "input(\" Enter your first name: \")"
      ],
      "execution_count": null,
      "outputs": [
        {
          "output_type": "stream",
          "text": [
            " Enter your first name: E\n"
          ],
          "name": "stdout"
        },
        {
          "output_type": "execute_result",
          "data": {
            "application/vnd.google.colaboratory.intrinsic+json": {
              "type": "string"
            },
            "text/plain": [
              "'E'"
            ]
          },
          "metadata": {
            "tags": []
          },
          "execution_count": 23
        }
      ]
    }
  ]
}