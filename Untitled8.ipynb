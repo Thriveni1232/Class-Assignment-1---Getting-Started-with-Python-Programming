{
  "nbformat": 4,
  "nbformat_minor": 0,
  "metadata": {
    "colab": {
      "name": "Untitled8.ipynb",
      "provenance": [],
      "authorship_tag": "ABX9TyOJenOD0bxW18e9E1N69EkO",
      "include_colab_link": true
    },
    "kernelspec": {
      "name": "python3",
      "display_name": "Python 3"
    }
  },
  "cells": [
    {
      "cell_type": "markdown",
      "metadata": {
        "id": "view-in-github",
        "colab_type": "text"
      },
      "source": [
        "<a href=\"https://colab.research.google.com/github/Thriveni1232/Class-Assignment-1---Getting-Started-with-Python-Programming/blob/master/Untitled8.ipynb\" target=\"_parent\"><img src=\"https://colab.research.google.com/assets/colab-badge.svg\" alt=\"Open In Colab\"/></a>"
      ]
    },
    {
      "cell_type": "code",
      "metadata": {
        "colab": {
          "base_uri": "https://localhost:8080/"
        },
        "id": "yd3RahS12xqN",
        "outputId": "df058285-e4e6-4633-89f1-365d31abfcca"
      },
      "source": [
        "my_dict={'a':1, 'b':3, 'c':1, 'd':2}\n",
        "lookup_value=1\n",
        "all_keys=[]\n",
        "for key,value in my_dict.items() :\n",
        "    if (value==lookup_value):\n",
        "        all_keys.append(key)\n",
        "print (all_keys)"
      ],
      "execution_count": null,
      "outputs": [
        {
          "output_type": "stream",
          "text": [
            "['a', 'c']\n"
          ],
          "name": "stdout"
        }
      ]
    },
    {
      "cell_type": "code",
      "metadata": {
        "colab": {
          "base_uri": "https://localhost:8080/",
          "height": 36
        },
        "id": "i9RSBEji28od",
        "outputId": "a83750db-e7af-49f9-e20f-ca0b7a24462f"
      },
      "source": [
        "def reverse_lookup(d,v):\n",
        "   for k in d:\n",
        "      if d[k] == v:\n",
        "         return k\n",
        "dict1={'a':1.6,'c':10,'b':11}\n",
        "reverse_lookup(dict1, 10)"
      ],
      "execution_count": null,
      "outputs": [
        {
          "output_type": "execute_result",
          "data": {
            "application/vnd.google.colaboratory.intrinsic+json": {
              "type": "string"
            },
            "text/plain": [
              "'c'"
            ]
          },
          "metadata": {
            "tags": []
          },
          "execution_count": 2
        }
      ]
    },
    {
      "cell_type": "code",
      "metadata": {
        "colab": {
          "base_uri": "https://localhost:8080/"
        },
        "id": "SsrXsHGB3N7P",
        "outputId": "7d5a8ed5-33a7-46d3-c6ff-aa679bd2dcb0"
      },
      "source": [
        "def Remove(duplicate):\n",
        " \n",
        "    final_list = []\n",
        " \n",
        "    for num in duplicate:\n",
        " \n",
        "        if num not in final_list:\n",
        " \n",
        "            final_list.append(num)\n",
        " \n",
        "    return final_list\n",
        " \n",
        "     \n",
        "# Driver Code\n",
        " \n",
        "duplicate = [2, 4, 10, 20, 5, 2, 20, 4]\n",
        " \n",
        "print(Remove(duplicate))"
      ],
      "execution_count": null,
      "outputs": [
        {
          "output_type": "stream",
          "text": [
            "[2, 4, 10, 20, 5]\n"
          ],
          "name": "stdout"
        }
      ]
    },
    {
      "cell_type": "code",
      "metadata": {
        "colab": {
          "base_uri": "https://localhost:8080/"
        },
        "id": "Q65SKJC23SYE",
        "outputId": "19022173-e49e-4a45-aac6-a89251e1a8e5"
      },
      "source": [
        "class Polygon:\n",
        "    def __init__(self,number,name):\n",
        "        self.number = number #3 - Triangle\n",
        "        self.name=name\n",
        "        self.sides=[]\n",
        "    def inputsides(self):\n",
        "      print(self.name)\n",
        "      for i in range(0,self.number):\n",
        "            ele=float(input(\"Enter side \"+str(i+1)+\" : \"))\n",
        "            self.sides.append(ele)\n",
        "class Triangle(Polygon):\n",
        "    def __init__(self):\n",
        "        Polygon.__init__(self, 3 ,\"TRIANGLE :\")\n",
        " \n",
        "    def trianglearea(self):\n",
        "        a, b, c = self.sides\n",
        "        s = (a + b + c) / 2\n",
        "        area = (s*(s-a)*(s-b)*(s-c)) ** 0.5\n",
        "        print(\"The area of the triangle is : %0.2f  \" % area)\n",
        " \n",
        "class Square(Polygon):\n",
        " \n",
        "    def __init__(self):\n",
        "        Polygon.__init__(self, 4, \"SQUARE :\")\n",
        " \n",
        "    def inputsides(self):\n",
        "      print(self.name)\n",
        "      self.sides=float(input(\"Enter side  : \"))\n",
        "      \n",
        "    \n",
        "    def squArea(self):\n",
        "        a = self.sides\n",
        "        area=a**2\n",
        "        print(\"The area of square is : %0.2f  \" % area)\n",
        " \n",
        " \n",
        "ob = Triangle()\n",
        "ob.inputsides() #BASE\n",
        "ob.trianglearea()\n",
        " \n",
        "ob1 = Square()\n",
        "ob1.inputsides() #DERIVED\n",
        "ob1.squArea()"
      ],
      "execution_count": null,
      "outputs": [
        {
          "output_type": "stream",
          "text": [
            "TRIANGLE :\n",
            "Enter side 1 : 10\n",
            "Enter side 2 : 20\n",
            "Enter side 3 : 30\n",
            "The area of the triangle is : 0.00  \n",
            "SQUARE :\n",
            "Enter side  : 10\n",
            "The area of square is : 100.00  \n"
          ],
          "name": "stdout"
        }
      ]
    }
  ]
}